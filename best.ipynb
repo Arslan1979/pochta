{
 "cells": [
  {
   "cell_type": "code",
   "execution_count": 1,
   "metadata": {},
   "outputs": [],
   "source": [
    "import numpy as np\n",
    "np.random.seed(42)"
   ]
  },
  {
   "cell_type": "code",
   "execution_count": 2,
   "metadata": {
    "id": "uaKzqUxsdjDa"
   },
   "outputs": [],
   "source": [
    "import pandas as pd\n",
    "pd.options.mode.chained_assignment = None\n",
    "import seaborn as sns\n",
    "import matplotlib.pyplot as plt\n",
    "from sklearn.model_selection import train_test_split, RandomizedSearchCV, GridSearchCV\n",
    "from sklearn.metrics import recall_score, roc_auc_score, precision_score, matthews_corrcoef, classification_report, roc_curve\n",
    "%matplotlib inline"
   ]
  },
  {
   "cell_type": "code",
   "execution_count": 3,
   "metadata": {},
   "outputs": [],
   "source": [
    "# https://machinelearningmastery.com/threshold-moving-for-imbalanced-classification/"
   ]
  },
  {
   "cell_type": "code",
   "execution_count": 5,
   "metadata": {},
   "outputs": [],
   "source": [
    "from utils import plot_confusion_matrix, plot_feature_importance"
   ]
  },
  {
   "cell_type": "code",
   "execution_count": 6,
   "metadata": {},
   "outputs": [],
   "source": [
    "# sklearn\n",
    "import sklearn as sk\n",
    "from sklearn.ensemble import RandomForestClassifier, ExtraTreesClassifier\n",
    "from sklearn.preprocessing import OneHotEncoder, RobustScaler, MinMaxScaler, StandardScaler, normalize\n",
    "from sklearn.compose import ColumnTransformer"
   ]
  },
  {
   "cell_type": "code",
   "execution_count": 7,
   "metadata": {},
   "outputs": [],
   "source": [
    "def score_fn(gt, pred):\n",
    "    return recall_score(gt, pred, average='macro', zero_division=0)"
   ]
  },
  {
   "cell_type": "code",
   "execution_count": 8,
   "metadata": {},
   "outputs": [],
   "source": [
    "train_df = pd.read_csv('train_processed2.csv', low_memory=False)"
   ]
  },
  {
   "cell_type": "code",
   "execution_count": 27,
   "metadata": {},
   "outputs": [],
   "source": [
    "useless_cols = [\n",
    "    'mailrank',\n",
    "    'postmark',\n",
    "    'name_mfi',\n",
    "    'city',\n",
    "    'post',\n",
    "    'oper_type_code',\n",
    "    'oper_type_class',\n",
    "    'index_oper',\n",
    "    'oper_type',\n",
    "    'oper_attr',\n",
    "    'priority',\n",
    "    \n",
    "#     'class',\n",
    "    'type',\n",
    "]"
   ]
  },
  {
   "cell_type": "code",
   "execution_count": 28,
   "metadata": {},
   "outputs": [],
   "source": [
    "str_cat_cols = [\n",
    "    'type'\n",
    "]"
   ]
  },
  {
   "cell_type": "code",
   "execution_count": 29,
   "metadata": {},
   "outputs": [],
   "source": [
    "num_cols = [\n",
    "    'weight',\n",
    "    'transport_pay',\n",
    "    'price_mfi',\n",
    "    'dist_qty_oper_login_1',\n",
    "    'total_qty_oper_login_1',\n",
    "    'total_qty_oper_login_0',\n",
    "    'total_qty_over_index_and_type',\n",
    "    'total_qty_over_index',\n",
    "]"
   ]
  },
  {
   "cell_type": "code",
   "execution_count": 30,
   "metadata": {},
   "outputs": [],
   "source": [
    "bin_cols = [\n",
    "    'is_privatecategory',\n",
    "    'is_in_yandex',\n",
    "    'is_return',\n",
    "    'is_wrong_sndr_name',\n",
    "    'is_wrong_rcpn_name',\n",
    "    'is_wrong_phone_number',\n",
    "    'is_wrong_address',\n",
    "]"
   ]
  },
  {
   "cell_type": "code",
   "execution_count": 31,
   "metadata": {},
   "outputs": [],
   "source": [
    "num_cat_cols = [\n",
    "    'mailctg',\n",
    "    'directctg',\n",
    "    'class',\n",
    "    'mailtype',\n",
    "    'priority',\n",
    "]"
   ]
  },
  {
   "cell_type": "code",
   "execution_count": 32,
   "metadata": {},
   "outputs": [],
   "source": [
    "num_scale_cols = [\n",
    "    'total_qty_oper_login_0', 'total_qty_oper_login_1',\n",
    "    'total_qty_over_index', 'total_qty_over_index_and_type',\n",
    "    'transport_pay', 'weight', 'weight_diff', 'weight_mfi',\n",
    "]"
   ]
  },
  {
   "cell_type": "code",
   "execution_count": 33,
   "metadata": {},
   "outputs": [],
   "source": [
    "drop_dup_subset = ['label']"
   ]
  },
  {
   "cell_type": "code",
   "execution_count": 87,
   "metadata": {},
   "outputs": [],
   "source": [
    "class Dataset():\n",
    "    \n",
    "    def __init__(self, train_df, keep=True, val_size=0.3,\n",
    "                 drop_major=False, drop_minor=False,\n",
    "                 num_cat_cols=num_cat_cols,\n",
    "                 num_scale_cols=num_scale_cols,\n",
    "                 str_cat_cols=str_cat_cols,\n",
    "                 useless_cols=useless_cols,\n",
    "                 drop_dup_subset=drop_dup_subset\n",
    "                ):\n",
    "        self._train = train_df\n",
    "        \n",
    "        if val_size == 0:\n",
    "            self.train = self._train\n",
    "            self.val = self._train.sample(100)\n",
    "        else:\n",
    "            self.train, self.val = train_test_split(self._train, \n",
    "                                                    test_size=val_size,\n",
    "                                                    stratify=self._train.label,\n",
    "                                                    random_state=42,\n",
    "                                                   )\n",
    "        self.cols = self._train.columns\n",
    "        self.useless_cols = [c for c in useless_cols if c in self.cols]\n",
    "\n",
    "        self.num_cat_cols = [c for c in num_cat_cols if c in self.cols and c not in useless_cols]\n",
    "        self.num_scale_cols = [c for c in num_scale_cols if c in self.cols and c not in useless_cols]\n",
    "        self.str_cat_cols = [c for c in str_cat_cols if c in self.cols and c not in useless_cols]\n",
    "        self.drop_dup_subset = [c for c in drop_dup_subset if c in self.cols and c not in useless_cols]\n",
    "        self.cat_cols = self.num_cat_cols + self.str_cat_cols\n",
    "        \n",
    "        del self._train\n",
    "        self.train = self.preprocess(self.train, 'train', keep=keep)\n",
    "        self.val = self.preprocess(self.val, 'val')\n",
    "        \n",
    "                \n",
    "        major = self.train[self.train.label == 0]\n",
    "        if drop_major:\n",
    "            major = major.drop_duplicates()\n",
    "        \n",
    "        minor = self.train[self.train.label == 1]\n",
    "        if drop_minor:\n",
    "            minor = minor.drop_duplicates()\n",
    "        \n",
    "        self.train = pd.concat([major, minor])\n",
    "        \n",
    "        self.enc = ColumnTransformer(\n",
    "            [\n",
    "                ('one_hot_encoder', OneHotEncoder(categories='auto', sparse=False), self.cat_cols),\n",
    "                ('robust_scaler', RobustScaler(), self.num_scale_cols),\n",
    "#                 ('std_scaler', StandardScaler(), self.num_scale_cols),\n",
    "#                 ('minmax_scaler', MinMaxScaler(), self.num_scale_cols),\n",
    "            ],\n",
    "            remainder='passthrough'                                      \n",
    "        )\n",
    "        self.enc.fit(pd.concat([self.train, self.val]).drop(['label'], axis=1))     \n",
    "        self.cat_features = []\n",
    "        self.cat_features_ids = []\n",
    "        for i, f in enumerate(self.enc.get_feature_names_out()):\n",
    "            \n",
    "            if f.startswith('one_hot') or f.startswith('remainder__is') or f.split('_')[-1] in self.cat_cols:\n",
    "                self.cat_features.append(f)\n",
    "                self.cat_features_ids.append(i)\n",
    "        \n",
    "        \n",
    "    def preprocess(self, df, part='train', keep=None):    \n",
    "        is_train = part == 'train'\n",
    "\n",
    "        \n",
    "        df = df.drop(self.useless_cols, axis=1)\n",
    "        df = df.fillna(0)\n",
    "\n",
    "        # num cat cols\n",
    "        for c in self.num_cat_cols:\n",
    "            df[c] = df[c].apply(lambda x: int(float(x))).astype(int).astype('category')\n",
    "            \n",
    "        #str cat cols\n",
    "        df[self.str_cat_cols] = df[self.str_cat_cols].astype(str).astype('category')\n",
    "        \n",
    "\n",
    "                \n",
    "        if is_train and keep != True:\n",
    "            df = df.sort_values(by=['label']).drop_duplicates(\n",
    "                subset=[c for c in df.columns if c not in self.drop_dup_subset],\n",
    "                keep=keep,\n",
    "            )\n",
    "        return df\n",
    "    \n",
    "    def get_train(self, mode=None):\n",
    "        df = self.train\n",
    "        if isinstance(mode, int):\n",
    "            df = self.midsample(df, mode)\n",
    "        elif mode == 'd':\n",
    "            df = self.downsample(df)\n",
    "        elif mode == 'u':\n",
    "            df = self.upsample(df)\n",
    "        \n",
    "        X = self.enc.transform(df.drop(['label'], axis=1))        \n",
    "        y = df.label\n",
    "        return X, y\n",
    "    \n",
    "    def get_val(self):\n",
    "        df = self.val\n",
    "        X = self.enc.transform(df.drop(['label'],1))\n",
    "        y = df.label\n",
    "        return X, y\n",
    "    \n",
    "    def get_test(self, file):\n",
    "        test = pd.read_csv(file, low_memory=False)\n",
    "        t = self.preprocess(test, 'test')\n",
    "        return self.enc.transform(t)"
   ]
  },
  {
   "cell_type": "code",
   "execution_count": 88,
   "metadata": {},
   "outputs": [],
   "source": [
    "ds = Dataset(\n",
    "    train_df,\n",
    "    drop_major=True, drop_minor=False,\n",
    "    val_size=0.2,\n",
    "    keep='last',\n",
    ")"
   ]
  },
  {
   "cell_type": "code",
   "execution_count": 89,
   "metadata": {},
   "outputs": [],
   "source": [
    "_X_train, _y_train = ds.get_train(mode=None)"
   ]
  },
  {
   "cell_type": "code",
   "execution_count": 90,
   "metadata": {},
   "outputs": [],
   "source": [
    "X_val, y_val = ds.get_val()"
   ]
  },
  {
   "cell_type": "code",
   "execution_count": 91,
   "metadata": {},
   "outputs": [],
   "source": [
    "X_train, y_train = _X_train, _y_train"
   ]
  },
  {
   "cell_type": "code",
   "execution_count": 92,
   "metadata": {},
   "outputs": [
    {
     "data": {
      "text/plain": [
       "0    0.910267\n",
       "1    0.089733\n",
       "Name: label, dtype: float64"
      ]
     },
     "execution_count": 92,
     "metadata": {},
     "output_type": "execute_result"
    }
   ],
   "source": [
    "pd.Series(y_train).value_counts(1)"
   ]
  },
  {
   "cell_type": "code",
   "execution_count": 93,
   "metadata": {},
   "outputs": [],
   "source": [
    "def get_best_thresh(proba, y_true, start=0, end=0.9, step=0.001):\n",
    "    res = dict()\n",
    "    for t in np.arange(start, end, step):\n",
    "        pred = np.where(np.array(proba) > t, 1, 0)\n",
    "        res[t] = score_fn(y_true, pred)\n",
    "    return sorted(res.items(), key=lambda x: x[1], reverse=1)"
   ]
  },
  {
   "cell_type": "code",
   "execution_count": 94,
   "metadata": {},
   "outputs": [],
   "source": [
    "def thresh_by_roc(proba, y_val):\n",
    "    fpr, tpr, thresholds = roc_curve(proba, drop_intermediate=False)\n",
    "    return thresholds[np.argmin(np.abs(fpr+tpr-1))]"
   ]
  },
  {
   "cell_type": "code",
   "execution_count": 95,
   "metadata": {},
   "outputs": [],
   "source": [
    "def pipeline(model_class, params, X_train=X_train, y_train=y_train, X_val=X_val, y_val=y_val):\n",
    "    model = model_class(**params)\n",
    "    model = model.fit(X_train, y_train)\n",
    "    val_proba = model.predict_proba(X_val)[:, 1]\n",
    "    r = np.array(get_best_thresh(val_proba, y_val, start=0, end=0.6)[:3])\n",
    "    threshes = r[:, 0]\n",
    "    scores = r[:, 1]\n",
    "    thresh = np.mean(threshes)\n",
    "    print(f'thresholds: {threshes}')\n",
    "    print(f'mean: {thresh}')\n",
    "    val_pred = np.where(val_proba > thresh, 1, 0)\n",
    "    print(pd.Series(val_pred).value_counts(normalize=1))\n",
    "    plot_confusion_matrix(y_val, val_pred, normalize=0)\n",
    "    return model, thresh, np.mean(scores)"
   ]
  },
  {
   "cell_type": "code",
   "execution_count": 96,
   "metadata": {},
   "outputs": [],
   "source": [
    "from sklearn.metrics import roc_auc_score, precision_recall_curve\n",
    "def plot_roc_curve(y_val, val_probs):\n",
    "    fpr, tpr, thresholds = roc_curve(y_val, val_probs)\n",
    "    plt.figure(figsize=(10, 10))\n",
    "    plt.plot([0,1], [0,1], linestyle='--', label='')\n",
    "    plt.plot(fpr, tpr, marker='.')\n",
    "    plt.xlabel('False Positive Rate')\n",
    "    plt.ylabel('True Positive Rate')\n",
    "    gmeans = np.sqrt(tpr * (1-fpr))\n",
    "    ix = np.argmax(gmeans)\n",
    "    print('Best Threshold=%f, G-Mean=%.3f' % (thresholds[ix], gmeans[ix]))\n",
    "    plt.scatter(fpr[ix], tpr[ix], marker='o', color='black', label='Best')"
   ]
  },
  {
   "cell_type": "markdown",
   "metadata": {},
   "source": [
    "## Random Forest"
   ]
  },
  {
   "cell_type": "code",
   "execution_count": 97,
   "metadata": {
    "scrolled": true
   },
   "outputs": [
    {
     "name": "stdout",
     "output_type": "stream",
     "text": [
      "thresholds: [0.048 0.049 0.042]\n",
      "mean: 0.04633333333333334\n",
      "0    0.809639\n",
      "1    0.190361\n",
      "dtype: float64\n"
     ]
    },
    {
     "data": {
      "image/png": "[encoded data removed]",
      "text/plain": [
       "<Figure size 576x432 with 2 Axes>"
      ]
     },
     "metadata": {
      "needs_background": "light"
     },
     "output_type": "display_data"
    },
    {
     "name": "stdout",
     "output_type": "stream",
     "text": [
      "              precision    recall  f1-score   support\n",
      "\n",
      "           0       1.00      0.83      0.91   1165804\n",
      "           1       0.14      0.92      0.24     34196\n",
      "\n",
      "    accuracy                           0.83   1200000\n",
      "   macro avg       0.57      0.88      0.57   1200000\n",
      "weighted avg       0.97      0.83      0.89   1200000\n",
      "\n",
      "target: 0.8751395925156883\n"
     ]
    }
   ],
   "source": [
    "rf_pipe = pipeline(\n",
    "    RandomForestClassifier,\n",
    "    {'n_jobs': -1, 'n_estimators': 100},\n",
    "    X_train=X_train,\n",
    "    y_train=y_train,\n",
    "    X_val=X_val,\n",
    "    y_val=y_val,\n",
    ")"
   ]
  },
  {
   "cell_type": "code",
   "execution_count": 29,
   "metadata": {},
   "outputs": [],
   "source": [
    "rf = rf_pipe[0]"
   ]
  },
  {
   "cell_type": "markdown",
   "metadata": {},
   "source": [
    "### комбинирование двух моделей дало ощутимый прирост!"
   ]
  },
  {
   "cell_type": "code",
   "execution_count": 99,
   "metadata": {},
   "outputs": [],
   "source": [
    "class AggModel():\n",
    "    def __init__(\n",
    "        self,\n",
    "        base_model_cls,\n",
    "        model_params,\n",
    "        n_models=3,\n",
    "    ):\n",
    "        self.n_models = n_models\n",
    "        self.models = [\n",
    "            base_model_cls(**model_params) for _ in range(n_models)\n",
    "        ]\n",
    "        \n",
    "    def fit(self, X, y):\n",
    "        for i in range(self.n_models):\n",
    "            self.models[i].fit(X, y)\n",
    "            print(f'done {i+1}/{self.n_models}')\n",
    "        return self\n",
    "    \n",
    "    def predict_proba(self, X):\n",
    "        probs = []\n",
    "        for model in self.models:\n",
    "            proba = model.predict_proba(X)\n",
    "            probs.append(proba)\n",
    "        return np.average(np.array(probs), axis=0)"
   ]
  },
  {
   "cell_type": "code",
   "execution_count": 100,
   "metadata": {},
   "outputs": [
    {
     "name": "stdout",
     "output_type": "stream",
     "text": [
      "done 1/3\n",
      "done 2/3\n",
      "done 3/3\n",
      "thresholds: [0.045 0.046 0.049]\n",
      "mean: 0.04666666666666667\n",
      "0    0.812601\n",
      "1    0.187399\n",
      "dtype: float64\n"
     ]
    },
    {
     "data": {
      "image/png": "[encoded data removed]",
      "text/plain": [
       "<Figure size 576x432 with 2 Axes>"
      ]
     },
     "metadata": {
      "needs_background": "light"
     },
     "output_type": "display_data"
    },
    {
     "name": "stdout",
     "output_type": "stream",
     "text": [
      "              precision    recall  f1-score   support\n",
      "\n",
      "           0       1.00      0.83      0.91   1165804\n",
      "           1       0.14      0.92      0.24     34196\n",
      "\n",
      "    accuracy                           0.84   1200000\n",
      "   macro avg       0.57      0.88      0.58   1200000\n",
      "weighted avg       0.97      0.84      0.89   1200000\n",
      "\n",
      "target: 0.8792976967642981\n"
     ]
    }
   ],
   "source": [
    "agg_pipe = pipeline(\n",
    "    AggModel,\n",
    "    {\n",
    "        'base_model_cls': RandomForestClassifier,\n",
    "        'model_params': {'n_jobs': -1, 'n_estimators': 300},\n",
    "        'n_models': 3,\n",
    "    },\n",
    "    X_train=X_train,\n",
    "    y_train=y_train,\n",
    "    X_val=X_val,\n",
    "    y_val=y_val,\n",
    ")"
   ]
  },
  {
   "cell_type": "code",
   "execution_count": 101,
   "metadata": {},
   "outputs": [],
   "source": [
    "agg_val_proba = agg_pipe[0].predict_proba(X_val)[:, 1]"
   ]
  },
  {
   "cell_type": "code",
   "execution_count": 102,
   "metadata": {},
   "outputs": [
    {
     "name": "stdout",
     "output_type": "stream",
     "text": [
      "Best Threshold=0.050000, G-Mean=0.878\n"
     ]
    },
    {
     "data": {
      "image/png": "[encoded data removed]",
      "text/plain": [
       "<Figure size 720x720 with 1 Axes>"
      ]
     },
     "metadata": {
      "needs_background": "light"
     },
     "output_type": "display_data"
    }
   ],
   "source": [
    "plot_roc_curve(y_val, agg_val_proba)"
   ]
  },
  {
   "cell_type": "code",
   "execution_count": 48,
   "metadata": {
    "scrolled": true
   },
   "outputs": [
    {
     "name": "stdout",
     "output_type": "stream",
     "text": [
      "Best Threshold=0.052222, G-Mean=0.878\n"
     ]
    },
    {
     "data": {
      "image/png": "[encoded data removed]",
      "text/plain": [
       "<Figure size 720x720 with 1 Axes>"
      ]
     },
     "metadata": {
      "needs_background": "light"
     },
     "output_type": "display_data"
    }
   ],
   "source": [
    "plot_roc_curve(y_val, agg_val_proba)"
   ]
  },
  {
   "cell_type": "code",
   "execution_count": 103,
   "metadata": {},
   "outputs": [
    {
     "data": {
      "text/plain": [
       "0.07"
      ]
     },
     "execution_count": 103,
     "metadata": {},
     "output_type": "execute_result"
    }
   ],
   "source": [
    "#все числа получены из валидации\n",
    "np.round(0.05 * (0.047 / 0.033) ,  2)"
   ]
  },
  {
   "cell_type": "code",
   "execution_count": 114,
   "metadata": {},
   "outputs": [],
   "source": [
    "t = 0.08"
   ]
  },
  {
   "cell_type": "code",
   "execution_count": 52,
   "metadata": {},
   "outputs": [],
   "source": [
    "del ds, X_train, y_train, X_val"
   ]
  },
  {
   "cell_type": "code",
   "execution_count": 54,
   "metadata": {},
   "outputs": [],
   "source": [
    "del agg_pipe"
   ]
  },
  {
   "cell_type": "code",
   "execution_count": 105,
   "metadata": {},
   "outputs": [],
   "source": [
    "ds = Dataset(\n",
    "    train_df,\n",
    "    drop_major=True, drop_minor=False,\n",
    "    val_size=0,\n",
    "    keep='last',\n",
    ")\n",
    "X, y = ds.get_train(mode=None)"
   ]
  },
  {
   "cell_type": "code",
   "execution_count": 107,
   "metadata": {},
   "outputs": [],
   "source": [
    "model = AggModel(\n",
    "    **{\n",
    "        'base_model_cls': RandomForestClassifier,\n",
    "        'model_params': {'n_jobs': -1, 'n_estimators': 300},\n",
    "        'n_models': 3,\n",
    "    },\n",
    ")"
   ]
  },
  {
   "cell_type": "code",
   "execution_count": 108,
   "metadata": {},
   "outputs": [
    {
     "name": "stdout",
     "output_type": "stream",
     "text": [
      "done 1/3\n",
      "done 2/3\n",
      "done 3/3\n"
     ]
    },
    {
     "data": {
      "text/plain": [
       "<__main__.AggModel at 0x155c48350>"
      ]
     },
     "execution_count": 108,
     "metadata": {},
     "output_type": "execute_result"
    }
   ],
   "source": [
    "model.fit(X, y)"
   ]
  },
  {
   "cell_type": "code",
   "execution_count": 109,
   "metadata": {},
   "outputs": [],
   "source": [
    "X_test = ds.get_test('test_processed2.csv')"
   ]
  },
  {
   "cell_type": "code",
   "execution_count": 110,
   "metadata": {},
   "outputs": [],
   "source": [
    "test_probs = model.predict_proba(X_test)[:, 1]"
   ]
  },
  {
   "cell_type": "code",
   "execution_count": 115,
   "metadata": {},
   "outputs": [],
   "source": [
    "test_pred = np.where(test_probs > t, 1, 0)"
   ]
  },
  {
   "cell_type": "code",
   "execution_count": 116,
   "metadata": {
    "scrolled": true
   },
   "outputs": [
    {
     "data": {
      "text/plain": [
       "0    0.84106\n",
       "1    0.15894\n",
       "dtype: float64"
      ]
     },
     "execution_count": 116,
     "metadata": {},
     "output_type": "execute_result"
    }
   ],
   "source": [
    "pd.Series(test_pred).value_counts(normalize=1)"
   ]
  },
  {
   "cell_type": "code",
   "execution_count": 86,
   "metadata": {},
   "outputs": [],
   "source": [
    "del ds, X_test"
   ]
  },
  {
   "cell_type": "code",
   "execution_count": 117,
   "metadata": {},
   "outputs": [],
   "source": [
    "solution = pd.read_csv('solution_base.csv')\n",
    "solution['label'] = test_pred\n",
    "solution.to_csv('final_solution+cls+robust_t008.csv', index=False)"
   ]
  },
  {
   "cell_type": "code",
   "execution_count": 64,
   "metadata": {
    "scrolled": true
   },
   "outputs": [
    {
     "name": "stdout",
     "output_type": "stream",
     "text": [
      "t: 0.08 test: 0.8411595\n"
     ]
    }
   ],
   "source": [
    "print(f't: {t} test: {pd.Series(test_pred).value_counts(normalize=1)[0]}')"
   ]
  },
  {
   "cell_type": "code",
   "execution_count": null,
   "metadata": {},
   "outputs": [],
   "source": []
  },
  {
   "cell_type": "code",
   "execution_count": null,
   "metadata": {},
   "outputs": [],
   "source": []
  },
  {
   "cell_type": "code",
   "execution_count": null,
   "metadata": {},
   "outputs": [],
   "source": []
  },
  {
   "cell_type": "code",
   "execution_count": null,
   "metadata": {},
   "outputs": [],
   "source": []
  },
  {
   "cell_type": "code",
   "execution_count": null,
   "metadata": {},
   "outputs": [],
   "source": []
  },
  {
   "cell_type": "code",
   "execution_count": null,
   "metadata": {},
   "outputs": [],
   "source": []
  },
  {
   "cell_type": "code",
   "execution_count": null,
   "metadata": {},
   "outputs": [],
   "source": []
  },
  {
   "cell_type": "code",
   "execution_count": null,
   "metadata": {},
   "outputs": [],
   "source": []
  },
  {
   "cell_type": "code",
   "execution_count": 37,
   "metadata": {},
   "outputs": [],
   "source": [
    "from sklearn.model_selection import PredefinedSplit\n",
    "from sklearn.metrics import make_scorer"
   ]
  },
  {
   "cell_type": "code",
   "execution_count": 38,
   "metadata": {},
   "outputs": [],
   "source": [
    "def custom_scorer(y, y_pred_proba):\n",
    "    r = np.array(get_best_thresh(val_proba, y_val, start=0.1, end=0.6)[:5])\n",
    "    scores = r[:, 1]\n",
    "    return np.mean(scores)"
   ]
  },
  {
   "cell_type": "code",
   "execution_count": 39,
   "metadata": {},
   "outputs": [],
   "source": [
    "sensity_scorer = make_scorer(custom_scorer, needs_proba=True)"
   ]
  },
  {
   "cell_type": "code",
   "execution_count": 40,
   "metadata": {},
   "outputs": [],
   "source": [
    "split_index = [-1] * len(X_train) + [0] * len(X_val)"
   ]
  },
  {
   "cell_type": "code",
   "execution_count": 41,
   "metadata": {},
   "outputs": [],
   "source": [
    "params = {\n",
    "    'class_weight': [\n",
    "        {0: 1, 1: 3},\n",
    "        {0: 1, 1: 9},\n",
    "        {0: 1, 1: 30},\n",
    "    ],\n",
    "    'max_depth': [4, 6, None],\n",
    "    'max_features': ['sqrt', 'log2', 0.3, 0.5],\n",
    "}"
   ]
  },
  {
   "cell_type": "code",
   "execution_count": 42,
   "metadata": {},
   "outputs": [],
   "source": [
    "split_index = [-1]*len(X_train) + [0]*len(X_val)\n",
    "X = np.concatenate((X_train, X_val), axis=0)\n",
    "y = np.concatenate((y_train, y_val), axis=0)"
   ]
  },
  {
   "cell_type": "code",
   "execution_count": 36,
   "metadata": {},
   "outputs": [],
   "source": [
    "def combine_preds(probs, weights=None, thresh=0.5):\n",
    "    if weights:\n",
    "        weights = np.array(weights) / sum(weights)\n",
    "    pred = np.average(np.array(probs), axis=0, weights=weights)\n",
    "    return np.where(pred > thresh, 1, 0)"
   ]
  },
  {
   "cell_type": "code",
   "execution_count": 57,
   "metadata": {},
   "outputs": [],
   "source": [
    "pds = PredefinedSplit(test_fold = split_index)"
   ]
  },
  {
   "cell_type": "code",
   "execution_count": 60,
   "metadata": {},
   "outputs": [],
   "source": [
    "clf = GridSearchCV(estimator=rf,\n",
    "                   cv=pds,\n",
    "                   param_grid=params,\n",
    "                   verbose=1,\n",
    "#                    n_jobs=-1,\n",
    "                  )"
   ]
  },
  {
   "cell_type": "code",
   "execution_count": null,
   "metadata": {},
   "outputs": [],
   "source": []
  }
 ],
 "metadata": {
  "colab": {
   "provenance": []
  },
  "kernelspec": {
   "display_name": "Python 3",
   "language": "python",
   "name": "python3"
  },
  "language_info": {
   "codemirror_mode": {
    "name": "ipython",
    "version": 3
   },
   "file_extension": ".py",
   "mimetype": "text/x-python",
   "name": "python",
   "nbconvert_exporter": "python",
   "pygments_lexer": "ipython3",
   "version": "3.7.10"
  }
 },
 "nbformat": 4,
 "nbformat_minor": 1
}
